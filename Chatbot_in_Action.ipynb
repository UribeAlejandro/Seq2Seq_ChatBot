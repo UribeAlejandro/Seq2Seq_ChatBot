{
  "nbformat": 4,
  "nbformat_minor": 0,
  "metadata": {
    "colab": {
      "name": "Chatbot_Uribe.ipynb",
      "provenance": [],
      "collapsed_sections": []
    },
    "kernelspec": {
      "name": "python3",
      "display_name": "Python 3"
    },
    "accelerator": "GPU"
  },
  "cells": [
    {
      "cell_type": "markdown",
      "metadata": {
        "id": "9cWsEkCytumY"
      },
      "source": [
        "# Chatbot"
      ]
    },
    {
      "cell_type": "code",
      "metadata": {
        "id": "_hcsM7Amlqu-"
      },
      "source": [
        "from utils.ChatterBot import ChatterBot\n",
        "from utils.TrainSeq2SeqChatBot import TrainSeq2SeqChatBot\n",
        "from utils.BuildCharacterSeq2SeqTrainSet import BuildCharacterSeq2SeqTrainSet"
      ],
      "execution_count": 2,
      "outputs": []
    },
    {
      "cell_type": "code",
      "metadata": {
        "colab": {
          "base_uri": "https://localhost:8080/"
        },
        "id": "CCbSgJGZi6l0",
        "outputId": "e636f43e-9bc8-4f31-8000-711e16f5350b"
      },
      "source": [
        "build_seq2seq = BuildCharacterSeq2SeqTrainSet()\n",
        "build_seq2seq_cache = build_seq2seq.fit_gen_train_sets()"
      ],
      "execution_count": 3,
      "outputs": [
        {
          "output_type": "stream",
          "text": [
            "Number of samples: 64350\n",
            "Number of unique Input Tokens: 44\n",
            "Number of unique Output Tokens: 46\n",
            "Maximum sequence length for Inputs: 100\n",
            "Maximum sequence length for Outputs: 102\n"
          ],
          "name": "stdout"
        }
      ]
    },
    {
      "cell_type": "code",
      "metadata": {
        "colab": {
          "base_uri": "https://localhost:8080/"
        },
        "id": "wzBxXzU-C5hd",
        "outputId": "91a43466-4e76-47b4-8ec6-920d5880405c"
      },
      "source": [
        "train_seq2seq = TrainSeq2SeqChatBot(build_seq2seq.input_vocab_size, build_seq2seq.output_vocab_size, \n",
        "                                    build_seq2seq.encoder_input_data, build_seq2seq.decoder_input_data, build_seq2seq.decoder_target_data, batch_size=1024, epochs=100)\n",
        "models = train_seq2seq.train_assemble()"
      ],
      "execution_count": 4,
      "outputs": [
        {
          "output_type": "stream",
          "text": [
            "Model: \"model\"\n",
            "__________________________________________________________________________________________________\n",
            "Layer (type)                    Output Shape         Param #     Connected to                     \n",
            "==================================================================================================\n",
            "Input_Encoder (InputLayer)      [(None, None, 44)]   0                                            \n",
            "__________________________________________________________________________________________________\n",
            "Decoder_Input (InputLayer)      [(None, None, 46)]   0                                            \n",
            "__________________________________________________________________________________________________\n",
            "LSTM_Encoder_Layer (LSTM)       [(None, 256), (None, 308224      Input_Encoder[0][0]              \n",
            "__________________________________________________________________________________________________\n",
            "LSTM_Decoder_Layer (LSTM)       [(None, None, 256),  310272      Decoder_Input[0][0]              \n",
            "                                                                 LSTM_Encoder_Layer[0][1]         \n",
            "                                                                 LSTM_Encoder_Layer[0][2]         \n",
            "__________________________________________________________________________________________________\n",
            "Dense_Decoder_Layer (Dense)     (None, None, 46)     11822       LSTM_Decoder_Layer[0][0]         \n",
            "==================================================================================================\n",
            "Total params: 630,318\n",
            "Trainable params: 630,318\n",
            "Non-trainable params: 0\n",
            "__________________________________________________________________________________________________\n",
            "None\n"
          ],
          "name": "stdout"
        }
      ]
    },
    {
      "cell_type": "code",
      "metadata": {
        "id": "gaeNO4ibmQeM",
        "colab": {
          "base_uri": "https://localhost:8080/"
        },
        "outputId": "76053824-096e-461b-d28e-433050961369"
      },
      "source": [
        "chatterbot = ChatterBot(models, build_seq2seq.input_vocab_size, build_seq2seq.output_vocab_size, \n",
        "                        build_seq2seq.target_token_index, build_seq2seq.stop_token, build_seq2seq.reverse_target_char_index, \n",
        "                        build_seq2seq.max_encoder_seq_length, build_seq2seq.max_decoder_seq_length, build_seq2seq.input_token_index)\n",
        "chatterbot.start_chat()"
      ],
      "execution_count": 5,
      "outputs": [
        {
          "output_type": "stream",
          "text": [
            "Bot: Hi, would like to chat with me?\n",
            "User: Yes\n",
            "\n",
            "User: Hello\n",
            "Bot reply: what it a don't the sare the sare the sore the sore the sore the sore the sore the sore the sore the so\n",
            "\n",
            "User: How are you?\n",
            "Bot reply: what it a don't the sare the sare the sore the sore the sore the sore the sore the sore the sore the so\n",
            "\n",
            "User: Goodbye\n",
            "Goodbye\n"
          ],
          "name": "stdout"
        }
      ]
    },
    {
      "cell_type": "code",
      "metadata": {
        "id": "FCniZymR9MkB",
        "colab": {
          "base_uri": "https://localhost:8080/",
          "height": 35
        },
        "outputId": "d4821d71-d4b3-4fed-f4d1-fb4a3c0f04bc"
      },
      "source": [
        "chatterbot.response(\"tomorrow\")"
      ],
      "execution_count": 6,
      "outputs": [
        {
          "output_type": "execute_result",
          "data": {
            "application/vnd.google.colaboratory.intrinsic+json": {
              "type": "string"
            },
            "text/plain": [
              "\"what it a don't the sare the sare the sore the sore the sore the sore the sore the sore the sore the so\""
            ]
          },
          "metadata": {
            "tags": []
          },
          "execution_count": 6
        }
      ]
    }
  ]
}